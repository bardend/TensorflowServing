{
 "cells": [
  {
   "cell_type": "code",
   "execution_count": null,
   "id": "3ec14b50-50b5-466d-8a09-7db621a5a51d",
   "metadata": {},
   "outputs": [],
   "source": [
    "import cv2\n",
    "\n",
    "# Ruta de la imagen a leer\n",
    "ruta_imagen = \"ruta/a/tu/imagen.jpg\"\n",
    "\n",
    "# Leer la imagen\n",
    "imagen = cv2.imread(ruta_imagen)\n",
    "\n",
    "# Comprobar si la imagen se ha cargado correctamente\n",
    "if imagen is None:\n",
    "    print(\"No se pudo leer la imagen.\")\n",
    "else:\n",
    "    # Mostrar la imagen (opcional)\n",
    "    cv2.imshow(\"Imagen\", imagen)\n",
    "    cv2.waitKey(0)\n",
    "    cv2.destroyAllWindows()\n"
   ]
  }
 ],
 "metadata": {
  "kernelspec": {
   "display_name": "Python 3 (ipykernel)",
   "language": "python",
   "name": "python3"
  },
  "language_info": {
   "codemirror_mode": {
    "name": "ipython",
    "version": 3
   },
   "file_extension": ".py",
   "mimetype": "text/x-python",
   "name": "python",
   "nbconvert_exporter": "python",
   "pygments_lexer": "ipython3",
   "version": "3.8.10"
  }
 },
 "nbformat": 4,
 "nbformat_minor": 5
}
