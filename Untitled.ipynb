{
 "cells": [
  {
   "cell_type": "code",
   "execution_count": 2,
   "id": "19744aa6-ec78-4b90-aefb-d73ae115e40f",
   "metadata": {},
   "outputs": [],
   "source": [
    "import cv2\n",
    "\n",
    "# Ruta de la imagen a leer\n",
    "ruta_imagen = \"im.png\"\n",
    "\n",
    "# Leer la imagen\n",
    "imagen = cv2.imread(ruta_imagen)\n",
    "\n",
    "# Comprobar si la imagen se ha cargado correctamente\n",
    "if imagen is None:\n",
    "    print(\"No se pudo leer la imagen.\")\n",
    "else:\n",
    "    # Mostrar la imagen (opcional)\n",
    "    cv2.imshow(\"Imagen\", imagen)\n",
    "    cv2.waitKey(0)\n",
    "    cv2.destroyAllWindows()\n"
   ]
  },
  {
   "cell_type": "code",
   "execution_count": 11,
   "id": "79a9fa19-2792-4af7-a349-432ee09ca5ac",
   "metadata": {},
   "outputs": [
    {
     "name": "stdout",
     "output_type": "stream",
     "text": [
      "(28, 28, 3)\n"
     ]
    }
   ],
   "source": [
    "print(imagen.shape)"
   ]
  },
  {
   "cell_type": "code",
   "execution_count": 12,
   "id": "d7dea447-4552-47a0-a036-d4f5bc75158d",
   "metadata": {},
   "outputs": [
    {
     "name": "stdout",
     "output_type": "stream",
     "text": [
      "(427, 569)\n"
     ]
    }
   ],
   "source": [
    "imagen = cv2.cvtColor(imagen, cv2.COLOR_BGR2GRAY)\n",
    "print(imagen_bn.shape)"
   ]
  },
  {
   "cell_type": "code",
   "execution_count": 16,
   "id": "7ad330c7-fb92-4342-84c7-5dde0df00c61",
   "metadata": {},
   "outputs": [
    {
     "data": {
      "text/plain": [
       "(1, 28, 28)"
      ]
     },
     "execution_count": 16,
     "metadata": {},
     "output_type": "execute_result"
    }
   ],
   "source": [
    "#Train_images.shape: (60000, 28, 28, 1), of uint8\n",
    "imagen = cv2.resize(imagen, (28, 28))\n",
    "imagen.shape\n",
    "imagen = imagen[np.newaxis, :, :]\n",
    "\n",
    "imagen.shape"
   ]
  },
  {
   "cell_type": "code",
   "execution_count": 18,
   "id": "eb55d196-916a-4980-8916-79e79bad792e",
   "metadata": {},
   "outputs": [
    {
     "name": "stdout",
     "output_type": "stream",
     "text": [
      "(1, 28, 28, 1)\n"
     ]
    }
   ],
   "source": [
    "import numpy as np\n",
    "test = np.expand_dims(imagen / 255., axis=3)\n",
    "print(test.shape)"
   ]
  },
  {
   "cell_type": "code",
   "execution_count": 22,
   "id": "72b51db9-351f-444e-8f6b-2a41e35497fd",
   "metadata": {},
   "outputs": [],
   "source": [
    "\n",
    "class_names = ['T-shirt/top', 'Trouser', 'Pullover', 'Dress', 'Coat',\n",
    "               'Sandal', 'Shirt', 'Sneaker', 'Bag', 'Ankle boot']\n",
    "\n"
   ]
  },
  {
   "cell_type": "code",
   "execution_count": null,
   "id": "6c3e502d-6841-454e-b792-0f4caf51d26f",
   "metadata": {},
   "outputs": [],
   "source": [
    "\n",
    "docker run -p 8501:8501 --name tfserving_classifier\n",
    "--mount type=bind, source= /home/bardend/Desktop/Python/Lm_Exp/TensorflowServing/Proyect1/tf_saved_models,\n",
    "target= /home/bardend/Desktop/Python/Lm_Exp/TensorflowServing/Proyect1\n",
    "-e MODEL_NAME=img_classifier -t tensorflow/serving\n"
   ]
  },
  {
   "cell_type": "code",
   "execution_count": 24,
   "id": "c7c496a3-351c-4f91-9ae6-6992955cf778",
   "metadata": {},
   "outputs": [
    {
     "name": "stdout",
     "output_type": "stream",
     "text": [
      "['Bag']\n"
     ]
    }
   ],
   "source": [
    "# Helper libraries\n",
    "import numpy as np\n",
    "import matplotlib.pyplot as plt\n",
    "import os\n",
    "import subprocess\n",
    "import cv2\n",
    "import json\n",
    "import requests\n",
    "from tqdm import tqdm\n",
    "\n",
    "data = json.dumps({\"signature_name\": \"serving_default\", \n",
    "                   \"instances\": test.tolist()})\n",
    "\n",
    "\n",
    "HEADERS = {'content-type': 'application/json'}\n",
    "MODEL1_API_URL = 'http://localhost:8501/v1/models/fashion_model_serving/versions/1:predict'\n",
    "\n",
    "json_response = requests.post(MODEL1_API_URL, data=data, headers=HEADERS)\n",
    "predictions = json.loads(json_response.text)['predictions']\n",
    "predictions = np.argmax(np.array(predictions), axis=1)\n",
    "prediction_labels = [class_names[p] for p in predictions]\n",
    "print(prediction_labels)"
   ]
  },
  {
   "cell_type": "code",
   "execution_count": null,
   "id": "8adfe68e-b7f4-48a5-b6b4-77ff009f09c3",
   "metadata": {},
   "outputs": [],
   "source": []
  }
 ],
 "metadata": {
  "kernelspec": {
   "display_name": "Python 3 (ipykernel)",
   "language": "python",
   "name": "python3"
  },
  "language_info": {
   "codemirror_mode": {
    "name": "ipython",
    "version": 3
   },
   "file_extension": ".py",
   "mimetype": "text/x-python",
   "name": "python",
   "nbconvert_exporter": "python",
   "pygments_lexer": "ipython3",
   "version": "3.8.10"
  }
 },
 "nbformat": 4,
 "nbformat_minor": 5
}
